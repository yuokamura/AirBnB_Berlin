{
 "cells": [
  {
   "cell_type": "markdown",
   "metadata": {},
   "source": [
    "# Airbnb project\n",
    "## Question 1: General trend"
   ]
  },
  {
   "cell_type": "markdown",
   "metadata": {},
   "source": [
    "## Import relevant packages"
   ]
  },
  {
   "cell_type": "code",
   "execution_count": 112,
   "metadata": {},
   "outputs": [],
   "source": [
    "import numpy as np\n",
    "import pandas as pd\n",
    "import matplotlib.pyplot as plt\n",
    "import seaborn as sns\n",
    "sns.set()\n",
    "\n",
    "%matplotlib inline"
   ]
  },
  {
   "cell_type": "markdown",
   "metadata": {},
   "source": [
    "## Data gathering"
   ]
  },
  {
   "cell_type": "code",
   "execution_count": 151,
   "metadata": {
    "scrolled": true
   },
   "outputs": [
    {
     "name": "stderr",
     "output_type": "stream",
     "text": [
      "C:\\Users\\yu298\\anaconda3\\lib\\site-packages\\IPython\\core\\interactiveshell.py:3063: DtypeWarning: Columns (43,61,62) have mixed types.Specify dtype option on import or set low_memory=False.\n",
      "  interactivity=interactivity, compiler=compiler, result=result)\n"
     ]
    }
   ],
   "source": [
    "df_listings = pd.read_csv('data/listings.csv.gz')\n",
    "df_calender = pd.read_csv('data/calendar.csv.gz')\n",
    "df_reviews = pd.read_csv('data/reviews.csv.gz')"
   ]
  },
  {
   "cell_type": "markdown",
   "metadata": {},
   "source": [
    "## Data Assessing"
   ]
  },
  {
   "cell_type": "markdown",
   "metadata": {},
   "source": [
    "Let's take a look at the data and see how we can answer the question.\n",
    "First investigate the reviews data"
   ]
  },
  {
   "cell_type": "code",
   "execution_count": 67,
   "metadata": {},
   "outputs": [],
   "source": [
    "df_reviews = pd.read_csv('data/reviews.csv.gz')"
   ]
  },
  {
   "cell_type": "code",
   "execution_count": 68,
   "metadata": {},
   "outputs": [
    {
     "data": {
      "text/html": [
       "<div>\n",
       "<style scoped>\n",
       "    .dataframe tbody tr th:only-of-type {\n",
       "        vertical-align: middle;\n",
       "    }\n",
       "\n",
       "    .dataframe tbody tr th {\n",
       "        vertical-align: top;\n",
       "    }\n",
       "\n",
       "    .dataframe thead th {\n",
       "        text-align: right;\n",
       "    }\n",
       "</style>\n",
       "<table border=\"1\" class=\"dataframe\">\n",
       "  <thead>\n",
       "    <tr style=\"text-align: right;\">\n",
       "      <th></th>\n",
       "      <th>listing_id</th>\n",
       "      <th>id</th>\n",
       "      <th>date</th>\n",
       "      <th>reviewer_id</th>\n",
       "      <th>reviewer_name</th>\n",
       "      <th>comments</th>\n",
       "    </tr>\n",
       "  </thead>\n",
       "  <tbody>\n",
       "    <tr>\n",
       "      <th>0</th>\n",
       "      <td>2015</td>\n",
       "      <td>69544350</td>\n",
       "      <td>2016-04-11</td>\n",
       "      <td>7178145</td>\n",
       "      <td>Rahel</td>\n",
       "      <td>Mein Freund und ich hatten gute gemütliche vie...</td>\n",
       "    </tr>\n",
       "    <tr>\n",
       "      <th>1</th>\n",
       "      <td>2015</td>\n",
       "      <td>69990732</td>\n",
       "      <td>2016-04-15</td>\n",
       "      <td>41944715</td>\n",
       "      <td>Hannah</td>\n",
       "      <td>Jan was very friendly and welcoming host! The ...</td>\n",
       "    </tr>\n",
       "    <tr>\n",
       "      <th>2</th>\n",
       "      <td>2015</td>\n",
       "      <td>71605267</td>\n",
       "      <td>2016-04-26</td>\n",
       "      <td>30048708</td>\n",
       "      <td>Victor</td>\n",
       "      <td>Un appartement tres bien situé dans un quartie...</td>\n",
       "    </tr>\n",
       "    <tr>\n",
       "      <th>3</th>\n",
       "      <td>2015</td>\n",
       "      <td>73819566</td>\n",
       "      <td>2016-05-10</td>\n",
       "      <td>63697857</td>\n",
       "      <td>Judy</td>\n",
       "      <td>It is really nice area, food, park, transport ...</td>\n",
       "    </tr>\n",
       "    <tr>\n",
       "      <th>4</th>\n",
       "      <td>2015</td>\n",
       "      <td>74293504</td>\n",
       "      <td>2016-05-14</td>\n",
       "      <td>10414887</td>\n",
       "      <td>Romina</td>\n",
       "      <td>Buena ubicación, el departamento no está orden...</td>\n",
       "    </tr>\n",
       "    <tr>\n",
       "      <th>...</th>\n",
       "      <td>...</td>\n",
       "      <td>...</td>\n",
       "      <td>...</td>\n",
       "      <td>...</td>\n",
       "      <td>...</td>\n",
       "      <td>...</td>\n",
       "    </tr>\n",
       "    <tr>\n",
       "      <th>517821</th>\n",
       "      <td>43228210</td>\n",
       "      <td>624655698</td>\n",
       "      <td>2020-05-13</td>\n",
       "      <td>224347873</td>\n",
       "      <td>Kristin</td>\n",
       "      <td>Manuel was the most hospitable host I have eve...</td>\n",
       "    </tr>\n",
       "    <tr>\n",
       "      <th>517822</th>\n",
       "      <td>43330380</td>\n",
       "      <td>624385739</td>\n",
       "      <td>2020-05-10</td>\n",
       "      <td>345757169</td>\n",
       "      <td>Bennet</td>\n",
       "      <td>Top</td>\n",
       "    </tr>\n",
       "    <tr>\n",
       "      <th>517823</th>\n",
       "      <td>43339602</td>\n",
       "      <td>624659521</td>\n",
       "      <td>2020-05-13</td>\n",
       "      <td>939311</td>\n",
       "      <td>Jonathan</td>\n",
       "      <td>Schnelle Kommunikation, das Studio ist neu und...</td>\n",
       "    </tr>\n",
       "    <tr>\n",
       "      <th>517824</th>\n",
       "      <td>43363126</td>\n",
       "      <td>624200722</td>\n",
       "      <td>2020-05-08</td>\n",
       "      <td>345542688</td>\n",
       "      <td>Ernest</td>\n",
       "      <td>Super freundlicher Gastgeber ! Ich war sehr zu...</td>\n",
       "    </tr>\n",
       "    <tr>\n",
       "      <th>517825</th>\n",
       "      <td>43363126</td>\n",
       "      <td>624653830</td>\n",
       "      <td>2020-05-13</td>\n",
       "      <td>341765358</td>\n",
       "      <td>Thi Minh Thuy</td>\n",
       "      <td>Serh gut</td>\n",
       "    </tr>\n",
       "  </tbody>\n",
       "</table>\n",
       "<p>517826 rows × 6 columns</p>\n",
       "</div>"
      ],
      "text/plain": [
       "        listing_id         id        date  reviewer_id  reviewer_name  \\\n",
       "0             2015   69544350  2016-04-11      7178145          Rahel   \n",
       "1             2015   69990732  2016-04-15     41944715         Hannah   \n",
       "2             2015   71605267  2016-04-26     30048708         Victor   \n",
       "3             2015   73819566  2016-05-10     63697857           Judy   \n",
       "4             2015   74293504  2016-05-14     10414887         Romina   \n",
       "...            ...        ...         ...          ...            ...   \n",
       "517821    43228210  624655698  2020-05-13    224347873        Kristin   \n",
       "517822    43330380  624385739  2020-05-10    345757169         Bennet   \n",
       "517823    43339602  624659521  2020-05-13       939311       Jonathan   \n",
       "517824    43363126  624200722  2020-05-08    345542688         Ernest   \n",
       "517825    43363126  624653830  2020-05-13    341765358  Thi Minh Thuy   \n",
       "\n",
       "                                                 comments  \n",
       "0       Mein Freund und ich hatten gute gemütliche vie...  \n",
       "1       Jan was very friendly and welcoming host! The ...  \n",
       "2       Un appartement tres bien situé dans un quartie...  \n",
       "3       It is really nice area, food, park, transport ...  \n",
       "4       Buena ubicación, el departamento no está orden...  \n",
       "...                                                   ...  \n",
       "517821  Manuel was the most hospitable host I have eve...  \n",
       "517822                                                Top  \n",
       "517823  Schnelle Kommunikation, das Studio ist neu und...  \n",
       "517824  Super freundlicher Gastgeber ! Ich war sehr zu...  \n",
       "517825                                           Serh gut  \n",
       "\n",
       "[517826 rows x 6 columns]"
      ]
     },
     "execution_count": 68,
     "metadata": {},
     "output_type": "execute_result"
    }
   ],
   "source": [
    "df_reviews"
   ]
  },
  {
   "cell_type": "code",
   "execution_count": 70,
   "metadata": {
    "scrolled": false
   },
   "outputs": [
    {
     "name": "stdout",
     "output_type": "stream",
     "text": [
      "<class 'pandas.core.frame.DataFrame'>\n",
      "RangeIndex: 517826 entries, 0 to 517825\n",
      "Data columns (total 6 columns):\n",
      " #   Column         Non-Null Count   Dtype \n",
      "---  ------         --------------   ----- \n",
      " 0   listing_id     517826 non-null  int64 \n",
      " 1   id             517826 non-null  int64 \n",
      " 2   date           517826 non-null  object\n",
      " 3   reviewer_id    517826 non-null  int64 \n",
      " 4   reviewer_name  517826 non-null  object\n",
      " 5   comments       517498 non-null  object\n",
      "dtypes: int64(3), object(3)\n",
      "memory usage: 23.7+ MB\n"
     ]
    }
   ],
   "source": [
    "df_reviews.info()"
   ]
  },
  {
   "cell_type": "markdown",
   "metadata": {},
   "source": [
    "There are no missing values, the data is clean, except for the data type of date.  Let's fix this quickly."
   ]
  },
  {
   "cell_type": "code",
   "execution_count": 71,
   "metadata": {},
   "outputs": [],
   "source": [
    "df_reviews['date'] = pd.to_datetime(df_reviews['date'])"
   ]
  },
  {
   "cell_type": "markdown",
   "metadata": {},
   "source": [
    "Now lets find out how the number of Airbnb usage has changed over the past decade.  For this, I would simply count the number of reviews as the number of usage.  Leaving a review is not mandatory and thus the figure will not be accurate representative of the total number of usage.  However, I would assume that the portion of customers leaving a review is somewhat constant, and this assumption suffice the purpose of studying the general trend in the Airbnb usage."
   ]
  },
  {
   "cell_type": "code",
   "execution_count": 115,
   "metadata": {},
   "outputs": [
    {
     "data": {
      "text/html": [
       "<div>\n",
       "<style scoped>\n",
       "    .dataframe tbody tr th:only-of-type {\n",
       "        vertical-align: middle;\n",
       "    }\n",
       "\n",
       "    .dataframe tbody tr th {\n",
       "        vertical-align: top;\n",
       "    }\n",
       "\n",
       "    .dataframe thead th {\n",
       "        text-align: right;\n",
       "    }\n",
       "</style>\n",
       "<table border=\"1\" class=\"dataframe\">\n",
       "  <thead>\n",
       "    <tr style=\"text-align: right;\">\n",
       "      <th></th>\n",
       "      <th>date</th>\n",
       "      <th>count</th>\n",
       "      <th>3month_RA</th>\n",
       "    </tr>\n",
       "  </thead>\n",
       "  <tbody>\n",
       "    <tr>\n",
       "      <th>0</th>\n",
       "      <td>2009-06</td>\n",
       "      <td>1</td>\n",
       "      <td>NaN</td>\n",
       "    </tr>\n",
       "    <tr>\n",
       "      <th>1</th>\n",
       "      <td>2009-08</td>\n",
       "      <td>1</td>\n",
       "      <td>NaN</td>\n",
       "    </tr>\n",
       "    <tr>\n",
       "      <th>2</th>\n",
       "      <td>2009-11</td>\n",
       "      <td>1</td>\n",
       "      <td>1.000000</td>\n",
       "    </tr>\n",
       "    <tr>\n",
       "      <th>3</th>\n",
       "      <td>2010-02</td>\n",
       "      <td>1</td>\n",
       "      <td>1.000000</td>\n",
       "    </tr>\n",
       "    <tr>\n",
       "      <th>4</th>\n",
       "      <td>2010-04</td>\n",
       "      <td>1</td>\n",
       "      <td>1.000000</td>\n",
       "    </tr>\n",
       "    <tr>\n",
       "      <th>...</th>\n",
       "      <td>...</td>\n",
       "      <td>...</td>\n",
       "      <td>...</td>\n",
       "    </tr>\n",
       "    <tr>\n",
       "      <th>121</th>\n",
       "      <td>2020-01</td>\n",
       "      <td>13152</td>\n",
       "      <td>13338.000000</td>\n",
       "    </tr>\n",
       "    <tr>\n",
       "      <th>122</th>\n",
       "      <td>2020-02</td>\n",
       "      <td>13708</td>\n",
       "      <td>13262.000000</td>\n",
       "    </tr>\n",
       "    <tr>\n",
       "      <th>123</th>\n",
       "      <td>2020-03</td>\n",
       "      <td>8517</td>\n",
       "      <td>11792.333333</td>\n",
       "    </tr>\n",
       "    <tr>\n",
       "      <th>124</th>\n",
       "      <td>2020-04</td>\n",
       "      <td>912</td>\n",
       "      <td>7712.333333</td>\n",
       "    </tr>\n",
       "    <tr>\n",
       "      <th>125</th>\n",
       "      <td>2020-05</td>\n",
       "      <td>366</td>\n",
       "      <td>3265.000000</td>\n",
       "    </tr>\n",
       "  </tbody>\n",
       "</table>\n",
       "<p>126 rows × 3 columns</p>\n",
       "</div>"
      ],
      "text/plain": [
       "        date  count     3month_RA\n",
       "0    2009-06      1           NaN\n",
       "1    2009-08      1           NaN\n",
       "2    2009-11      1      1.000000\n",
       "3    2010-02      1      1.000000\n",
       "4    2010-04      1      1.000000\n",
       "..       ...    ...           ...\n",
       "121  2020-01  13152  13338.000000\n",
       "122  2020-02  13708  13262.000000\n",
       "123  2020-03   8517  11792.333333\n",
       "124  2020-04    912   7712.333333\n",
       "125  2020-05    366   3265.000000\n",
       "\n",
       "[126 rows x 3 columns]"
      ]
     },
     "execution_count": 115,
     "metadata": {},
     "output_type": "execute_result"
    }
   ],
   "source": [
    "df_grouped=df_reviews.groupby([df_reviews['date'].dt.to_period('M')]).size().reset_index(name='count')\n",
    "df_grouped['3month_RA']=df_grouped.rolling(3).mean()\n",
    "df_grouped"
   ]
  },
  {
   "cell_type": "code",
   "execution_count": 116,
   "metadata": {},
   "outputs": [
    {
     "data": {
      "image/png": "[encoded data removed]",
      "text/plain": [
       "<Figure size 432x288 with 1 Axes>"
      ]
     },
     "metadata": {
      "needs_background": "light"
     },
     "output_type": "display_data"
    }
   ],
   "source": [
    "ax=df_grouped.plot(x='date', y='3month_RA', kind='line')\n",
    "ax.set_xlabel('Year')\n",
    "ax.set_ylabel('Number of Reviews')\n",
    "plt.show()"
   ]
  },
  {
   "cell_type": "markdown",
   "metadata": {},
   "source": [
    "There are few points we can observe from the plot.\n",
    "- The number of Airbnb usage has been steadily increasing every year.\n",
    "- There is a periodic pattern that the usage increase during summer and decrease during winter period.\n",
    "- There is a drastic decrease in usage in the 2020.  Most probably caused by the global pandemic."
   ]
  },
  {
   "cell_type": "markdown",
   "metadata": {},
   "source": [
    "Now lets see how the number of listings have changed.  "
   ]
  },
  {
   "cell_type": "code",
   "execution_count": 131,
   "metadata": {
    "scrolled": true
   },
   "outputs": [
    {
     "data": {
      "text/html": [
       "<div>\n",
       "<style scoped>\n",
       "    .dataframe tbody tr th:only-of-type {\n",
       "        vertical-align: middle;\n",
       "    }\n",
       "\n",
       "    .dataframe tbody tr th {\n",
       "        vertical-align: top;\n",
       "    }\n",
       "\n",
       "    .dataframe thead th {\n",
       "        text-align: right;\n",
       "    }\n",
       "</style>\n",
       "<table border=\"1\" class=\"dataframe\">\n",
       "  <thead>\n",
       "    <tr style=\"text-align: right;\">\n",
       "      <th></th>\n",
       "      <th>date</th>\n",
       "      <th>listing_id</th>\n",
       "      <th>3month_RA</th>\n",
       "    </tr>\n",
       "  </thead>\n",
       "  <tbody>\n",
       "    <tr>\n",
       "      <th>0</th>\n",
       "      <td>2009-06</td>\n",
       "      <td>1</td>\n",
       "      <td>NaN</td>\n",
       "    </tr>\n",
       "    <tr>\n",
       "      <th>1</th>\n",
       "      <td>2009-08</td>\n",
       "      <td>1</td>\n",
       "      <td>NaN</td>\n",
       "    </tr>\n",
       "    <tr>\n",
       "      <th>2</th>\n",
       "      <td>2009-11</td>\n",
       "      <td>1</td>\n",
       "      <td>1.000000</td>\n",
       "    </tr>\n",
       "    <tr>\n",
       "      <th>3</th>\n",
       "      <td>2010-02</td>\n",
       "      <td>1</td>\n",
       "      <td>1.000000</td>\n",
       "    </tr>\n",
       "    <tr>\n",
       "      <th>4</th>\n",
       "      <td>2010-04</td>\n",
       "      <td>1</td>\n",
       "      <td>1.000000</td>\n",
       "    </tr>\n",
       "    <tr>\n",
       "      <th>...</th>\n",
       "      <td>...</td>\n",
       "      <td>...</td>\n",
       "      <td>...</td>\n",
       "    </tr>\n",
       "    <tr>\n",
       "      <th>121</th>\n",
       "      <td>2020-01</td>\n",
       "      <td>5643</td>\n",
       "      <td>5266.333333</td>\n",
       "    </tr>\n",
       "    <tr>\n",
       "      <th>122</th>\n",
       "      <td>2020-02</td>\n",
       "      <td>5226</td>\n",
       "      <td>5304.333333</td>\n",
       "    </tr>\n",
       "    <tr>\n",
       "      <th>123</th>\n",
       "      <td>2020-03</td>\n",
       "      <td>4572</td>\n",
       "      <td>5147.000000</td>\n",
       "    </tr>\n",
       "    <tr>\n",
       "      <th>124</th>\n",
       "      <td>2020-04</td>\n",
       "      <td>645</td>\n",
       "      <td>3481.000000</td>\n",
       "    </tr>\n",
       "    <tr>\n",
       "      <th>125</th>\n",
       "      <td>2020-05</td>\n",
       "      <td>280</td>\n",
       "      <td>1832.333333</td>\n",
       "    </tr>\n",
       "  </tbody>\n",
       "</table>\n",
       "<p>126 rows × 3 columns</p>\n",
       "</div>"
      ],
      "text/plain": [
       "        date  listing_id    3month_RA\n",
       "0    2009-06           1          NaN\n",
       "1    2009-08           1          NaN\n",
       "2    2009-11           1     1.000000\n",
       "3    2010-02           1     1.000000\n",
       "4    2010-04           1     1.000000\n",
       "..       ...         ...          ...\n",
       "121  2020-01        5643  5266.333333\n",
       "122  2020-02        5226  5304.333333\n",
       "123  2020-03        4572  5147.000000\n",
       "124  2020-04         645  3481.000000\n",
       "125  2020-05         280  1832.333333\n",
       "\n",
       "[126 rows x 3 columns]"
      ]
     },
     "execution_count": 131,
     "metadata": {},
     "output_type": "execute_result"
    }
   ],
   "source": [
    "df_grouped=df_reviews.groupby([df_reviews['date'].dt.to_period('M')])['listing_id'].nunique()\n",
    "df_grouped=pd.DataFrame(df_grouped).reset_index()\n",
    "df_grouped['3month_RA']=df_grouped.rolling(3).mean()\n",
    "df_grouped"
   ]
  },
  {
   "cell_type": "code",
   "execution_count": 133,
   "metadata": {},
   "outputs": [
    {
     "data": {
      "image/png": "[encoded data removed]",
      "text/plain": [
       "<Figure size 432x288 with 1 Axes>"
      ]
     },
     "metadata": {
      "needs_background": "light"
     },
     "output_type": "display_data"
    }
   ],
   "source": [
    "ax=df_grouped.plot(x='date', y='3month_RA', kind='line')\n",
    "ax.set_xlabel('Year')\n",
    "ax.set_ylabel('Number of Listings')\n",
    "plt.show()"
   ]
  },
  {
   "cell_type": "code",
   "execution_count": 139,
   "metadata": {},
   "outputs": [
    {
     "data": {
      "text/html": [
       "<div>\n",
       "<style scoped>\n",
       "    .dataframe tbody tr th:only-of-type {\n",
       "        vertical-align: middle;\n",
       "    }\n",
       "\n",
       "    .dataframe tbody tr th {\n",
       "        vertical-align: top;\n",
       "    }\n",
       "\n",
       "    .dataframe thead th {\n",
       "        text-align: right;\n",
       "    }\n",
       "</style>\n",
       "<table border=\"1\" class=\"dataframe\">\n",
       "  <thead>\n",
       "    <tr style=\"text-align: right;\">\n",
       "      <th></th>\n",
       "      <th>id</th>\n",
       "      <th>listing_url</th>\n",
       "      <th>scrape_id</th>\n",
       "      <th>last_scraped</th>\n",
       "      <th>name</th>\n",
       "      <th>summary</th>\n",
       "      <th>space</th>\n",
       "      <th>description</th>\n",
       "      <th>experiences_offered</th>\n",
       "      <th>neighborhood_overview</th>\n",
       "      <th>...</th>\n",
       "      <th>instant_bookable</th>\n",
       "      <th>is_business_travel_ready</th>\n",
       "      <th>cancellation_policy</th>\n",
       "      <th>require_guest_profile_picture</th>\n",
       "      <th>require_guest_phone_verification</th>\n",
       "      <th>calculated_host_listings_count</th>\n",
       "      <th>calculated_host_listings_count_entire_homes</th>\n",
       "      <th>calculated_host_listings_count_private_rooms</th>\n",
       "      <th>calculated_host_listings_count_shared_rooms</th>\n",
       "      <th>reviews_per_month</th>\n",
       "    </tr>\n",
       "  </thead>\n",
       "  <tbody>\n",
       "    <tr>\n",
       "      <th>0</th>\n",
       "      <td>2015</td>\n",
       "      <td>https://www.airbnb.com/rooms/2015</td>\n",
       "      <td>20200514190820</td>\n",
       "      <td>2020-05-15</td>\n",
       "      <td>Berlin-Mitte Value! Quiet courtyard/very central</td>\n",
       "      <td>Great location!  30 of 75 sq meters. This wood...</td>\n",
       "      <td>A+++ location! This „Einliegerwohnung“ is an e...</td>\n",
       "      <td>Great location!  30 of 75 sq meters. This wood...</td>\n",
       "      <td>none</td>\n",
       "      <td>It is located in the former East Berlin area o...</td>\n",
       "      <td>...</td>\n",
       "      <td>f</td>\n",
       "      <td>f</td>\n",
       "      <td>strict_14_with_grace_period</td>\n",
       "      <td>f</td>\n",
       "      <td>f</td>\n",
       "      <td>7</td>\n",
       "      <td>7</td>\n",
       "      <td>0</td>\n",
       "      <td>0</td>\n",
       "      <td>2.65</td>\n",
       "    </tr>\n",
       "    <tr>\n",
       "      <th>1</th>\n",
       "      <td>3176</td>\n",
       "      <td>https://www.airbnb.com/rooms/3176</td>\n",
       "      <td>20200514190820</td>\n",
       "      <td>2020-05-15</td>\n",
       "      <td>Fabulous Flat in great Location</td>\n",
       "      <td>This beautiful first floor apartment  is situa...</td>\n",
       "      <td>1st floor (68m2) apartment on Kollwitzplatz/ P...</td>\n",
       "      <td>This beautiful first floor apartment  is situa...</td>\n",
       "      <td>none</td>\n",
       "      <td>The neighbourhood is famous for its variety of...</td>\n",
       "      <td>...</td>\n",
       "      <td>f</td>\n",
       "      <td>f</td>\n",
       "      <td>strict_14_with_grace_period</td>\n",
       "      <td>f</td>\n",
       "      <td>f</td>\n",
       "      <td>1</td>\n",
       "      <td>1</td>\n",
       "      <td>0</td>\n",
       "      <td>0</td>\n",
       "      <td>1.09</td>\n",
       "    </tr>\n",
       "    <tr>\n",
       "      <th>2</th>\n",
       "      <td>3309</td>\n",
       "      <td>https://www.airbnb.com/rooms/3309</td>\n",
       "      <td>20200514190820</td>\n",
       "      <td>2020-05-15</td>\n",
       "      <td>BerlinSpot Schöneberg near KaDeWe</td>\n",
       "      <td>First of all: I prefer short-notice bookings. ...</td>\n",
       "      <td>Your room is really big and has 26 sqm, is ver...</td>\n",
       "      <td>First of all: I prefer short-notice bookings. ...</td>\n",
       "      <td>none</td>\n",
       "      <td>My flat is in the middle of West-Berlin, direc...</td>\n",
       "      <td>...</td>\n",
       "      <td>f</td>\n",
       "      <td>f</td>\n",
       "      <td>strict_14_with_grace_period</td>\n",
       "      <td>f</td>\n",
       "      <td>f</td>\n",
       "      <td>1</td>\n",
       "      <td>0</td>\n",
       "      <td>1</td>\n",
       "      <td>0</td>\n",
       "      <td>0.33</td>\n",
       "    </tr>\n",
       "    <tr>\n",
       "      <th>3</th>\n",
       "      <td>7071</td>\n",
       "      <td>https://www.airbnb.com/rooms/7071</td>\n",
       "      <td>20200514190820</td>\n",
       "      <td>2020-05-15</td>\n",
       "      <td>BrightRoom with sunny greenview!</td>\n",
       "      <td>Cozy and large room in the beautiful district ...</td>\n",
       "      <td>The BrightRoom is an approx. 20 sqm (215ft²), ...</td>\n",
       "      <td>Cozy and large room in the beautiful district ...</td>\n",
       "      <td>none</td>\n",
       "      <td>Great neighborhood with plenty of Cafés, Baker...</td>\n",
       "      <td>...</td>\n",
       "      <td>f</td>\n",
       "      <td>f</td>\n",
       "      <td>moderate</td>\n",
       "      <td>f</td>\n",
       "      <td>f</td>\n",
       "      <td>2</td>\n",
       "      <td>0</td>\n",
       "      <td>2</td>\n",
       "      <td>0</td>\n",
       "      <td>2.24</td>\n",
       "    </tr>\n",
       "    <tr>\n",
       "      <th>4</th>\n",
       "      <td>9991</td>\n",
       "      <td>https://www.airbnb.com/rooms/9991</td>\n",
       "      <td>20200514190820</td>\n",
       "      <td>2020-05-15</td>\n",
       "      <td>Geourgeous flat - outstanding views</td>\n",
       "      <td>4 bedroom with very large windows and outstand...</td>\n",
       "      <td>THE APPARTMENT - 4 bedroom (US, Germany: 5 roo...</td>\n",
       "      <td>4 bedroom with very large windows and outstand...</td>\n",
       "      <td>none</td>\n",
       "      <td>Prenzlauer Berg is an amazing neighbourhood wh...</td>\n",
       "      <td>...</td>\n",
       "      <td>f</td>\n",
       "      <td>f</td>\n",
       "      <td>moderate</td>\n",
       "      <td>f</td>\n",
       "      <td>f</td>\n",
       "      <td>1</td>\n",
       "      <td>1</td>\n",
       "      <td>0</td>\n",
       "      <td>0</td>\n",
       "      <td>0.14</td>\n",
       "    </tr>\n",
       "  </tbody>\n",
       "</table>\n",
       "<p>5 rows × 106 columns</p>\n",
       "</div>"
      ],
      "text/plain": [
       "     id                        listing_url       scrape_id last_scraped  \\\n",
       "0  2015  https://www.airbnb.com/rooms/2015  20200514190820   2020-05-15   \n",
       "1  3176  https://www.airbnb.com/rooms/3176  20200514190820   2020-05-15   \n",
       "2  3309  https://www.airbnb.com/rooms/3309  20200514190820   2020-05-15   \n",
       "3  7071  https://www.airbnb.com/rooms/7071  20200514190820   2020-05-15   \n",
       "4  9991  https://www.airbnb.com/rooms/9991  20200514190820   2020-05-15   \n",
       "\n",
       "                                               name  \\\n",
       "0  Berlin-Mitte Value! Quiet courtyard/very central   \n",
       "1                   Fabulous Flat in great Location   \n",
       "2                 BerlinSpot Schöneberg near KaDeWe   \n",
       "3                  BrightRoom with sunny greenview!   \n",
       "4               Geourgeous flat - outstanding views   \n",
       "\n",
       "                                             summary  \\\n",
       "0  Great location!  30 of 75 sq meters. This wood...   \n",
       "1  This beautiful first floor apartment  is situa...   \n",
       "2  First of all: I prefer short-notice bookings. ...   \n",
       "3  Cozy and large room in the beautiful district ...   \n",
       "4  4 bedroom with very large windows and outstand...   \n",
       "\n",
       "                                               space  \\\n",
       "0  A+++ location! This „Einliegerwohnung“ is an e...   \n",
       "1  1st floor (68m2) apartment on Kollwitzplatz/ P...   \n",
       "2  Your room is really big and has 26 sqm, is ver...   \n",
       "3  The BrightRoom is an approx. 20 sqm (215ft²), ...   \n",
       "4  THE APPARTMENT - 4 bedroom (US, Germany: 5 roo...   \n",
       "\n",
       "                                         description experiences_offered  \\\n",
       "0  Great location!  30 of 75 sq meters. This wood...                none   \n",
       "1  This beautiful first floor apartment  is situa...                none   \n",
       "2  First of all: I prefer short-notice bookings. ...                none   \n",
       "3  Cozy and large room in the beautiful district ...                none   \n",
       "4  4 bedroom with very large windows and outstand...                none   \n",
       "\n",
       "                               neighborhood_overview  ... instant_bookable  \\\n",
       "0  It is located in the former East Berlin area o...  ...                f   \n",
       "1  The neighbourhood is famous for its variety of...  ...                f   \n",
       "2  My flat is in the middle of West-Berlin, direc...  ...                f   \n",
       "3  Great neighborhood with plenty of Cafés, Baker...  ...                f   \n",
       "4  Prenzlauer Berg is an amazing neighbourhood wh...  ...                f   \n",
       "\n",
       "  is_business_travel_ready          cancellation_policy  \\\n",
       "0                        f  strict_14_with_grace_period   \n",
       "1                        f  strict_14_with_grace_period   \n",
       "2                        f  strict_14_with_grace_period   \n",
       "3                        f                     moderate   \n",
       "4                        f                     moderate   \n",
       "\n",
       "  require_guest_profile_picture require_guest_phone_verification  \\\n",
       "0                             f                                f   \n",
       "1                             f                                f   \n",
       "2                             f                                f   \n",
       "3                             f                                f   \n",
       "4                             f                                f   \n",
       "\n",
       "   calculated_host_listings_count  \\\n",
       "0                               7   \n",
       "1                               1   \n",
       "2                               1   \n",
       "3                               2   \n",
       "4                               1   \n",
       "\n",
       "   calculated_host_listings_count_entire_homes  \\\n",
       "0                                            7   \n",
       "1                                            1   \n",
       "2                                            0   \n",
       "3                                            0   \n",
       "4                                            1   \n",
       "\n",
       "  calculated_host_listings_count_private_rooms  \\\n",
       "0                                            0   \n",
       "1                                            0   \n",
       "2                                            1   \n",
       "3                                            2   \n",
       "4                                            0   \n",
       "\n",
       "   calculated_host_listings_count_shared_rooms  reviews_per_month  \n",
       "0                                            0               2.65  \n",
       "1                                            0               1.09  \n",
       "2                                            0               0.33  \n",
       "3                                            0               2.24  \n",
       "4                                            0               0.14  \n",
       "\n",
       "[5 rows x 106 columns]"
      ]
     },
     "execution_count": 139,
     "metadata": {},
     "output_type": "execute_result"
    }
   ],
   "source": [
    "df_listings.head()"
   ]
  },
  {
   "cell_type": "code",
   "execution_count": 138,
   "metadata": {},
   "outputs": [
    {
     "name": "stdout",
     "output_type": "stream",
     "text": [
      "<class 'pandas.core.frame.DataFrame'>\n",
      "RangeIndex: 24678 entries, 0 to 24677\n",
      "Data columns (total 106 columns):\n",
      " #   Column                                        Non-Null Count  Dtype  \n",
      "---  ------                                        --------------  -----  \n",
      " 0   id                                            24678 non-null  int64  \n",
      " 1   listing_url                                   24678 non-null  object \n",
      " 2   scrape_id                                     24678 non-null  int64  \n",
      " 3   last_scraped                                  24678 non-null  object \n",
      " 4   name                                          24628 non-null  object \n",
      " 5   summary                                       23447 non-null  object \n",
      " 6   space                                         15953 non-null  object \n",
      " 7   description                                   24160 non-null  object \n",
      " 8   experiences_offered                           24678 non-null  object \n",
      " 9   neighborhood_overview                         13851 non-null  object \n",
      " 10  notes                                         7720 non-null   object \n",
      " 11  transit                                       15071 non-null  object \n",
      " 12  access                                        10852 non-null  object \n",
      " 13  interaction                                   12246 non-null  object \n",
      " 14  house_rules                                   12200 non-null  object \n",
      " 15  thumbnail_url                                 0 non-null      float64\n",
      " 16  medium_url                                    0 non-null      float64\n",
      " 17  picture_url                                   24678 non-null  object \n",
      " 18  xl_picture_url                                0 non-null      float64\n",
      " 19  host_id                                       24678 non-null  int64  \n",
      " 20  host_url                                      24678 non-null  object \n",
      " 21  host_name                                     24657 non-null  object \n",
      " 22  host_since                                    24657 non-null  object \n",
      " 23  host_location                                 24582 non-null  object \n",
      " 24  host_about                                    12232 non-null  object \n",
      " 25  host_response_time                            10737 non-null  object \n",
      " 26  host_response_rate                            10737 non-null  object \n",
      " 27  host_acceptance_rate                          15815 non-null  object \n",
      " 28  host_is_superhost                             24657 non-null  object \n",
      " 29  host_thumbnail_url                            24657 non-null  object \n",
      " 30  host_picture_url                              24657 non-null  object \n",
      " 31  host_neighbourhood                            18758 non-null  object \n",
      " 32  host_listings_count                           24657 non-null  float64\n",
      " 33  host_total_listings_count                     24657 non-null  float64\n",
      " 34  host_verifications                            24678 non-null  object \n",
      " 35  host_has_profile_pic                          24657 non-null  object \n",
      " 36  host_identity_verified                        24657 non-null  object \n",
      " 37  street                                        24678 non-null  object \n",
      " 38  neighbourhood                                 24678 non-null  object \n",
      " 39  neighbourhood_cleansed                        24678 non-null  object \n",
      " 40  neighbourhood_group_cleansed                  24678 non-null  object \n",
      " 41  city                                          24670 non-null  object \n",
      " 42  state                                         24536 non-null  object \n",
      " 43  zipcode                                       24178 non-null  object \n",
      " 44  market                                        24622 non-null  object \n",
      " 45  smart_location                                24678 non-null  object \n",
      " 46  country_code                                  24678 non-null  object \n",
      " 47  country                                       24678 non-null  object \n",
      " 48  latitude                                      24678 non-null  float64\n",
      " 49  longitude                                     24678 non-null  float64\n",
      " 50  is_location_exact                             24678 non-null  object \n",
      " 51  property_type                                 24678 non-null  object \n",
      " 52  room_type                                     24678 non-null  object \n",
      " 53  accommodates                                  24678 non-null  int64  \n",
      " 54  bathrooms                                     24657 non-null  float64\n",
      " 55  bedrooms                                      24632 non-null  float64\n",
      " 56  beds                                          24466 non-null  float64\n",
      " 57  bed_type                                      24676 non-null  object \n",
      " 58  amenities                                     24678 non-null  object \n",
      " 59  square_feet                                   391 non-null    float64\n",
      " 60  price                                         24678 non-null  object \n",
      " 61  weekly_price                                  2950 non-null   object \n",
      " 62  monthly_price                                 2106 non-null   object \n",
      " 63  security_deposit                              15070 non-null  object \n",
      " 64  cleaning_fee                                  17264 non-null  object \n",
      " 65  guests_included                               24678 non-null  int64  \n",
      " 66  extra_people                                  24678 non-null  object \n",
      " 67  minimum_nights                                24678 non-null  int64  \n",
      " 68  maximum_nights                                24678 non-null  int64  \n",
      " 69  minimum_minimum_nights                        24678 non-null  int64  \n",
      " 70  maximum_minimum_nights                        24678 non-null  int64  \n",
      " 71  minimum_maximum_nights                        24678 non-null  int64  \n",
      " 72  maximum_maximum_nights                        24678 non-null  int64  \n",
      " 73  minimum_nights_avg_ntm                        24678 non-null  float64\n",
      " 74  maximum_nights_avg_ntm                        24678 non-null  float64\n",
      " 75  calendar_updated                              24678 non-null  object \n",
      " 76  has_availability                              24678 non-null  object \n",
      " 77  availability_30                               24678 non-null  int64  \n",
      " 78  availability_60                               24678 non-null  int64  \n",
      " 79  availability_90                               24678 non-null  int64  \n",
      " 80  availability_365                              24678 non-null  int64  \n",
      " 81  calendar_last_scraped                         24678 non-null  object \n",
      " 82  number_of_reviews                             24678 non-null  int64  \n",
      " 83  number_of_reviews_ltm                         24678 non-null  int64  \n",
      " 84  first_review                                  20142 non-null  object \n",
      " 85  last_review                                   20142 non-null  object \n",
      " 86  review_scores_rating                          19645 non-null  float64\n",
      " 87  review_scores_accuracy                        19618 non-null  float64\n",
      " 88  review_scores_cleanliness                     19621 non-null  float64\n",
      " 89  review_scores_checkin                         19597 non-null  float64\n",
      " 90  review_scores_communication                   19616 non-null  float64\n",
      " 91  review_scores_location                        19598 non-null  float64\n",
      " 92  review_scores_value                           19595 non-null  float64\n",
      " 93  requires_license                              24678 non-null  object \n",
      " 94  license                                       2627 non-null   object \n",
      " 95  jurisdiction_names                            0 non-null      float64\n",
      " 96  instant_bookable                              24678 non-null  object \n",
      " 97  is_business_travel_ready                      24678 non-null  object \n",
      " 98  cancellation_policy                           24678 non-null  object \n",
      " 99  require_guest_profile_picture                 24678 non-null  object \n",
      " 100 require_guest_phone_verification              24678 non-null  object \n",
      " 101 calculated_host_listings_count                24678 non-null  int64  \n",
      " 102 calculated_host_listings_count_entire_homes   24678 non-null  int64  \n",
      " 103 calculated_host_listings_count_private_rooms  24678 non-null  int64  \n",
      " 104 calculated_host_listings_count_shared_rooms   24678 non-null  int64  \n",
      " 105 reviews_per_month                             20142 non-null  float64\n",
      "dtypes: float64(22), int64(21), object(63)\n",
      "memory usage: 20.0+ MB\n"
     ]
    }
   ],
   "source": [
    "df_listings.info(verbose=True, null_counts=True)"
   ]
  },
  {
   "cell_type": "code",
   "execution_count": 159,
   "metadata": {},
   "outputs": [],
   "source": [
    "def price_conversion(df,col):\n",
    "    df.loc[:,col] = df.loc[:,col].str.replace(',','')\n",
    "    df.loc[:,col] = pd.to_numeric(df.loc[:,col].str.replace('$', ''))"
   ]
  },
  {
   "cell_type": "code",
   "execution_count": 166,
   "metadata": {},
   "outputs": [],
   "source": [
    "price_conversion(df_listings, 'price')"
   ]
  },
  {
   "cell_type": "code",
   "execution_count": 167,
   "metadata": {},
   "outputs": [
    {
     "data": {
      "text/plain": [
       "count    24678.000000\n",
       "mean        75.109409\n",
       "std        239.989351\n",
       "min          0.000000\n",
       "25%         35.000000\n",
       "50%         50.000000\n",
       "75%         79.000000\n",
       "max       9000.000000\n",
       "Name: price, dtype: float64"
      ]
     },
     "execution_count": 167,
     "metadata": {},
     "output_type": "execute_result"
    }
   ],
   "source": [
    "df_listings['price'].describe()"
   ]
  },
  {
   "cell_type": "markdown",
   "metadata": {},
   "source": [
    "lets see how the price is distributed"
   ]
  },
  {
   "cell_type": "code",
   "execution_count": 173,
   "metadata": {},
   "outputs": [
    {
     "data": {
      "image/png": "[encoded data removed]",
      "text/plain": [
       "<Figure size 432x288 with 1 Axes>"
      ]
     },
     "metadata": {
      "needs_background": "light"
     },
     "output_type": "display_data"
    }
   ],
   "source": [
    "bin_size=10\n",
    "bin_edges = np.arange(0,df_listings.price.max()+bin_size,bin_size)\n",
    "plt.hist(data=df_listings, x='price', bins=bin_edges, lw=0);\n",
    "\n",
    "plt.title('Price distribution of listings')\n",
    "\n",
    "plt.xlabel('Price ($)');"
   ]
  },
  {
   "cell_type": "markdown",
   "metadata": {},
   "source": [
    "It is immediately obvioius from the plot that the price is mostly distrubted less than $300, and skewed by some of the outliers (the highest price is $9000).  \n",
    "For the purpose of grasping the general trend, let's replot the price distribution for those listings with less than $300."
   ]
  },
  {
   "cell_type": "code",
   "execution_count": 179,
   "metadata": {},
   "outputs": [
    {
     "data": {
      "image/png": "[encoded data removed]",
      "text/plain": [
       "<Figure size 432x288 with 1 Axes>"
      ]
     },
     "metadata": {
      "needs_background": "light"
     },
     "output_type": "display_data"
    }
   ],
   "source": [
    "bin_size=10\n",
    "bin_edges = np.arange(0,300+bin_size,bin_size)\n",
    "plt.hist(data=df_listings, x='price', bins=bin_edges);\n",
    "\n",
    "price_mean = df_listings.price.mean() \n",
    "plt.axvline(price_mean, 0, 4000, color='red') ## adding the vertical line indicating the mean price\n",
    "plt.title('Price distribution of listings')\n",
    "\n",
    "plt.xlabel('Price ($)');"
   ]
  },
  {
   "cell_type": "code",
   "execution_count": 180,
   "metadata": {},
   "outputs": [
    {
     "data": {
      "text/plain": [
       "50.0"
      ]
     },
     "execution_count": 180,
     "metadata": {},
     "output_type": "execute_result"
    }
   ],
   "source": [
    "df_listings.price.median()"
   ]
  },
  {
   "cell_type": "code",
   "execution_count": 227,
   "metadata": {},
   "outputs": [
    {
     "data": {
      "image/png": "[encoded data removed]",
      "text/plain": [
       "<Figure size 432x288 with 1 Axes>"
      ]
     },
     "metadata": {
      "needs_background": "light"
     },
     "output_type": "display_data"
    }
   ],
   "source": [
    "df_room_type = df_listings[['price','room_type']]\n",
    "room_type_cat = df_listings.room_type.unique().tolist()\n",
    "\n",
    "## create dictionary with room_type as a key and dataframe only contains the room_type of the key as value\n",
    "room_type_dict = {}\n",
    "for i in room_type_cat:\n",
    "    room_type_dict[i] = pd.DataFrame(df_room_type[df_room_type.room_type==i])\n",
    "\n",
    "# produce stacked histogram\n",
    "bin_size=10\n",
    "bin_edges = np.arange(0,300+bin_size,bin_size)\n",
    "plt.hist([room_type_dict['Entire home/apt']['price'],\n",
    "          room_type_dict['Private room']['price'],\n",
    "          room_type_dict['Shared room']['price'],\n",
    "          room_type_dict['Hotel room']['price']], \n",
    "         bins=bin_edges, stacked=True, label=room_type_cat)\n",
    "plt.legend()\n",
    "plt.title('Price distribution of listings with different room types')\n",
    "plt.xlabel('Price ($)');"
   ]
  },
  {
   "cell_type": "code",
   "execution_count": null,
   "metadata": {},
   "outputs": [],
   "source": []
  }
 ],
 "metadata": {
  "kernelspec": {
   "display_name": "Python 3",
   "language": "python",
   "name": "python3"
  },
  "language_info": {
   "codemirror_mode": {
    "name": "ipython",
    "version": 3
   },
   "file_extension": ".py",
   "mimetype": "text/x-python",
   "name": "python",
   "nbconvert_exporter": "python",
   "pygments_lexer": "ipython3",
   "version": "3.7.7"
  }
 },
 "nbformat": 4,
 "nbformat_minor": 4
}
