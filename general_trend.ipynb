{
 "cells": [
  {
   "cell_type": "markdown",
   "metadata": {},
   "source": [
    "# Airbnb project"
   ]
  },
  {
   "cell_type": "markdown",
   "metadata": {},
   "source": [
    "## Import relevant packages"
   ]
  },
  {
   "cell_type": "code",
   "execution_count": 112,
   "metadata": {},
   "outputs": [],
   "source": [
    "import numpy as np\n",
    "import pandas as pd\n",
    "import matplotlib.pyplot as plt\n",
    "import seaborn as sns\n",
    "sns.set()\n",
    "\n",
    "%matplotlib inline"
   ]
  },
  {
   "cell_type": "markdown",
   "metadata": {},
   "source": [
    "## Data gathering"
   ]
  },
  {
   "cell_type": "code",
   "execution_count": 40,
   "metadata": {
    "scrolled": true
   },
   "outputs": [
    {
     "name": "stderr",
     "output_type": "stream",
     "text": [
      "C:\\Users\\yu298\\anaconda3\\lib\\site-packages\\IPython\\core\\interactiveshell.py:3063: DtypeWarning: Columns (43,61,62) have mixed types.Specify dtype option on import or set low_memory=False.\n",
      "  interactivity=interactivity, compiler=compiler, result=result)\n"
     ]
    }
   ],
   "source": [
    "df_listings = pd.read_csv('data/listings.csv.gz')\n",
    "df_calender = pd.read_csv('data/calendar.csv.gz')\n",
    "df_reviews = pd.read_csv('data/reviews.csv.gz')"
   ]
  },
  {
   "cell_type": "markdown",
   "metadata": {},
   "source": [
    "## Data Assessing"
   ]
  },
  {
   "cell_type": "markdown",
   "metadata": {},
   "source": [
    "Let's take a look at the data and see how we can answer the question.\n",
    "First investigate the reviews data"
   ]
  },
  {
   "cell_type": "code",
   "execution_count": 67,
   "metadata": {},
   "outputs": [],
   "source": [
    "df_reviews = pd.read_csv('data/reviews.csv.gz')"
   ]
  },
  {
   "cell_type": "code",
   "execution_count": 68,
   "metadata": {},
   "outputs": [
    {
     "data": {
      "text/html": [
       "<div>\n",
       "<style scoped>\n",
       "    .dataframe tbody tr th:only-of-type {\n",
       "        vertical-align: middle;\n",
       "    }\n",
       "\n",
       "    .dataframe tbody tr th {\n",
       "        vertical-align: top;\n",
       "    }\n",
       "\n",
       "    .dataframe thead th {\n",
       "        text-align: right;\n",
       "    }\n",
       "</style>\n",
       "<table border=\"1\" class=\"dataframe\">\n",
       "  <thead>\n",
       "    <tr style=\"text-align: right;\">\n",
       "      <th></th>\n",
       "      <th>listing_id</th>\n",
       "      <th>id</th>\n",
       "      <th>date</th>\n",
       "      <th>reviewer_id</th>\n",
       "      <th>reviewer_name</th>\n",
       "      <th>comments</th>\n",
       "    </tr>\n",
       "  </thead>\n",
       "  <tbody>\n",
       "    <tr>\n",
       "      <th>0</th>\n",
       "      <td>2015</td>\n",
       "      <td>69544350</td>\n",
       "      <td>2016-04-11</td>\n",
       "      <td>7178145</td>\n",
       "      <td>Rahel</td>\n",
       "      <td>Mein Freund und ich hatten gute gemütliche vie...</td>\n",
       "    </tr>\n",
       "    <tr>\n",
       "      <th>1</th>\n",
       "      <td>2015</td>\n",
       "      <td>69990732</td>\n",
       "      <td>2016-04-15</td>\n",
       "      <td>41944715</td>\n",
       "      <td>Hannah</td>\n",
       "      <td>Jan was very friendly and welcoming host! The ...</td>\n",
       "    </tr>\n",
       "    <tr>\n",
       "      <th>2</th>\n",
       "      <td>2015</td>\n",
       "      <td>71605267</td>\n",
       "      <td>2016-04-26</td>\n",
       "      <td>30048708</td>\n",
       "      <td>Victor</td>\n",
       "      <td>Un appartement tres bien situé dans un quartie...</td>\n",
       "    </tr>\n",
       "    <tr>\n",
       "      <th>3</th>\n",
       "      <td>2015</td>\n",
       "      <td>73819566</td>\n",
       "      <td>2016-05-10</td>\n",
       "      <td>63697857</td>\n",
       "      <td>Judy</td>\n",
       "      <td>It is really nice area, food, park, transport ...</td>\n",
       "    </tr>\n",
       "    <tr>\n",
       "      <th>4</th>\n",
       "      <td>2015</td>\n",
       "      <td>74293504</td>\n",
       "      <td>2016-05-14</td>\n",
       "      <td>10414887</td>\n",
       "      <td>Romina</td>\n",
       "      <td>Buena ubicación, el departamento no está orden...</td>\n",
       "    </tr>\n",
       "    <tr>\n",
       "      <th>...</th>\n",
       "      <td>...</td>\n",
       "      <td>...</td>\n",
       "      <td>...</td>\n",
       "      <td>...</td>\n",
       "      <td>...</td>\n",
       "      <td>...</td>\n",
       "    </tr>\n",
       "    <tr>\n",
       "      <th>517821</th>\n",
       "      <td>43228210</td>\n",
       "      <td>624655698</td>\n",
       "      <td>2020-05-13</td>\n",
       "      <td>224347873</td>\n",
       "      <td>Kristin</td>\n",
       "      <td>Manuel was the most hospitable host I have eve...</td>\n",
       "    </tr>\n",
       "    <tr>\n",
       "      <th>517822</th>\n",
       "      <td>43330380</td>\n",
       "      <td>624385739</td>\n",
       "      <td>2020-05-10</td>\n",
       "      <td>345757169</td>\n",
       "      <td>Bennet</td>\n",
       "      <td>Top</td>\n",
       "    </tr>\n",
       "    <tr>\n",
       "      <th>517823</th>\n",
       "      <td>43339602</td>\n",
       "      <td>624659521</td>\n",
       "      <td>2020-05-13</td>\n",
       "      <td>939311</td>\n",
       "      <td>Jonathan</td>\n",
       "      <td>Schnelle Kommunikation, das Studio ist neu und...</td>\n",
       "    </tr>\n",
       "    <tr>\n",
       "      <th>517824</th>\n",
       "      <td>43363126</td>\n",
       "      <td>624200722</td>\n",
       "      <td>2020-05-08</td>\n",
       "      <td>345542688</td>\n",
       "      <td>Ernest</td>\n",
       "      <td>Super freundlicher Gastgeber ! Ich war sehr zu...</td>\n",
       "    </tr>\n",
       "    <tr>\n",
       "      <th>517825</th>\n",
       "      <td>43363126</td>\n",
       "      <td>624653830</td>\n",
       "      <td>2020-05-13</td>\n",
       "      <td>341765358</td>\n",
       "      <td>Thi Minh Thuy</td>\n",
       "      <td>Serh gut</td>\n",
       "    </tr>\n",
       "  </tbody>\n",
       "</table>\n",
       "<p>517826 rows × 6 columns</p>\n",
       "</div>"
      ],
      "text/plain": [
       "        listing_id         id        date  reviewer_id  reviewer_name  \\\n",
       "0             2015   69544350  2016-04-11      7178145          Rahel   \n",
       "1             2015   69990732  2016-04-15     41944715         Hannah   \n",
       "2             2015   71605267  2016-04-26     30048708         Victor   \n",
       "3             2015   73819566  2016-05-10     63697857           Judy   \n",
       "4             2015   74293504  2016-05-14     10414887         Romina   \n",
       "...            ...        ...         ...          ...            ...   \n",
       "517821    43228210  624655698  2020-05-13    224347873        Kristin   \n",
       "517822    43330380  624385739  2020-05-10    345757169         Bennet   \n",
       "517823    43339602  624659521  2020-05-13       939311       Jonathan   \n",
       "517824    43363126  624200722  2020-05-08    345542688         Ernest   \n",
       "517825    43363126  624653830  2020-05-13    341765358  Thi Minh Thuy   \n",
       "\n",
       "                                                 comments  \n",
       "0       Mein Freund und ich hatten gute gemütliche vie...  \n",
       "1       Jan was very friendly and welcoming host! The ...  \n",
       "2       Un appartement tres bien situé dans un quartie...  \n",
       "3       It is really nice area, food, park, transport ...  \n",
       "4       Buena ubicación, el departamento no está orden...  \n",
       "...                                                   ...  \n",
       "517821  Manuel was the most hospitable host I have eve...  \n",
       "517822                                                Top  \n",
       "517823  Schnelle Kommunikation, das Studio ist neu und...  \n",
       "517824  Super freundlicher Gastgeber ! Ich war sehr zu...  \n",
       "517825                                           Serh gut  \n",
       "\n",
       "[517826 rows x 6 columns]"
      ]
     },
     "execution_count": 68,
     "metadata": {},
     "output_type": "execute_result"
    }
   ],
   "source": [
    "df_reviews"
   ]
  },
  {
   "cell_type": "code",
   "execution_count": 70,
   "metadata": {
    "scrolled": false
   },
   "outputs": [
    {
     "name": "stdout",
     "output_type": "stream",
     "text": [
      "<class 'pandas.core.frame.DataFrame'>\n",
      "RangeIndex: 517826 entries, 0 to 517825\n",
      "Data columns (total 6 columns):\n",
      " #   Column         Non-Null Count   Dtype \n",
      "---  ------         --------------   ----- \n",
      " 0   listing_id     517826 non-null  int64 \n",
      " 1   id             517826 non-null  int64 \n",
      " 2   date           517826 non-null  object\n",
      " 3   reviewer_id    517826 non-null  int64 \n",
      " 4   reviewer_name  517826 non-null  object\n",
      " 5   comments       517498 non-null  object\n",
      "dtypes: int64(3), object(3)\n",
      "memory usage: 23.7+ MB\n"
     ]
    }
   ],
   "source": [
    "df_reviews.info()"
   ]
  },
  {
   "cell_type": "markdown",
   "metadata": {},
   "source": [
    "There are no missing values, the data is clean, except for the data type of date.  Let's fix this quickly."
   ]
  },
  {
   "cell_type": "code",
   "execution_count": 71,
   "metadata": {},
   "outputs": [],
   "source": [
    "df_reviews['date'] = pd.to_datetime(df_reviews['date'])"
   ]
  },
  {
   "cell_type": "markdown",
   "metadata": {},
   "source": [
    "Now lets find out how the number of Airbnb usage has changed over the past decade.  For this, I would simply count the number of reviews as the number of usage.  Leaving a review is not mandatory and thus the figure will not be accurate representative of the total number of usage.  However, I would assume that the portion of customers leaving a review is somewhat constant, and this assumption suffice the purpose of studying the general trend in the Airbnb usage."
   ]
  },
  {
   "cell_type": "code",
   "execution_count": 115,
   "metadata": {},
   "outputs": [
    {
     "data": {
      "text/html": [
       "<div>\n",
       "<style scoped>\n",
       "    .dataframe tbody tr th:only-of-type {\n",
       "        vertical-align: middle;\n",
       "    }\n",
       "\n",
       "    .dataframe tbody tr th {\n",
       "        vertical-align: top;\n",
       "    }\n",
       "\n",
       "    .dataframe thead th {\n",
       "        text-align: right;\n",
       "    }\n",
       "</style>\n",
       "<table border=\"1\" class=\"dataframe\">\n",
       "  <thead>\n",
       "    <tr style=\"text-align: right;\">\n",
       "      <th></th>\n",
       "      <th>date</th>\n",
       "      <th>count</th>\n",
       "      <th>3month_RA</th>\n",
       "    </tr>\n",
       "  </thead>\n",
       "  <tbody>\n",
       "    <tr>\n",
       "      <th>0</th>\n",
       "      <td>2009-06</td>\n",
       "      <td>1</td>\n",
       "      <td>NaN</td>\n",
       "    </tr>\n",
       "    <tr>\n",
       "      <th>1</th>\n",
       "      <td>2009-08</td>\n",
       "      <td>1</td>\n",
       "      <td>NaN</td>\n",
       "    </tr>\n",
       "    <tr>\n",
       "      <th>2</th>\n",
       "      <td>2009-11</td>\n",
       "      <td>1</td>\n",
       "      <td>1.000000</td>\n",
       "    </tr>\n",
       "    <tr>\n",
       "      <th>3</th>\n",
       "      <td>2010-02</td>\n",
       "      <td>1</td>\n",
       "      <td>1.000000</td>\n",
       "    </tr>\n",
       "    <tr>\n",
       "      <th>4</th>\n",
       "      <td>2010-04</td>\n",
       "      <td>1</td>\n",
       "      <td>1.000000</td>\n",
       "    </tr>\n",
       "    <tr>\n",
       "      <th>...</th>\n",
       "      <td>...</td>\n",
       "      <td>...</td>\n",
       "      <td>...</td>\n",
       "    </tr>\n",
       "    <tr>\n",
       "      <th>121</th>\n",
       "      <td>2020-01</td>\n",
       "      <td>13152</td>\n",
       "      <td>13338.000000</td>\n",
       "    </tr>\n",
       "    <tr>\n",
       "      <th>122</th>\n",
       "      <td>2020-02</td>\n",
       "      <td>13708</td>\n",
       "      <td>13262.000000</td>\n",
       "    </tr>\n",
       "    <tr>\n",
       "      <th>123</th>\n",
       "      <td>2020-03</td>\n",
       "      <td>8517</td>\n",
       "      <td>11792.333333</td>\n",
       "    </tr>\n",
       "    <tr>\n",
       "      <th>124</th>\n",
       "      <td>2020-04</td>\n",
       "      <td>912</td>\n",
       "      <td>7712.333333</td>\n",
       "    </tr>\n",
       "    <tr>\n",
       "      <th>125</th>\n",
       "      <td>2020-05</td>\n",
       "      <td>366</td>\n",
       "      <td>3265.000000</td>\n",
       "    </tr>\n",
       "  </tbody>\n",
       "</table>\n",
       "<p>126 rows × 3 columns</p>\n",
       "</div>"
      ],
      "text/plain": [
       "        date  count     3month_RA\n",
       "0    2009-06      1           NaN\n",
       "1    2009-08      1           NaN\n",
       "2    2009-11      1      1.000000\n",
       "3    2010-02      1      1.000000\n",
       "4    2010-04      1      1.000000\n",
       "..       ...    ...           ...\n",
       "121  2020-01  13152  13338.000000\n",
       "122  2020-02  13708  13262.000000\n",
       "123  2020-03   8517  11792.333333\n",
       "124  2020-04    912   7712.333333\n",
       "125  2020-05    366   3265.000000\n",
       "\n",
       "[126 rows x 3 columns]"
      ]
     },
     "execution_count": 115,
     "metadata": {},
     "output_type": "execute_result"
    }
   ],
   "source": [
    "df_grouped=df_reviews.groupby([df_reviews['date'].dt.to_period('M')]).size().reset_index(name='count')\n",
    "df_grouped['3month_RA']=df_grouped.rolling(3).mean()\n",
    "df_grouped"
   ]
  },
  {
   "cell_type": "code",
   "execution_count": 116,
   "metadata": {},
   "outputs": [
    {
     "data": {
      "image/png": "[encoded data removed]",
      "text/plain": [
       "<Figure size 432x288 with 1 Axes>"
      ]
     },
     "metadata": {
      "needs_background": "light"
     },
     "output_type": "display_data"
    }
   ],
   "source": [
    "ax=df_grouped.plot(x='date', y='3month_RA', kind='line')\n",
    "ax.set_xlabel('Year')\n",
    "ax.set_ylabel('Number of Reviews')\n",
    "plt.show()"
   ]
  },
  {
   "cell_type": "markdown",
   "metadata": {},
   "source": [
    "There are few points we can observe from the plot.\n",
    "- The number of Airbnb usage has been steadily increasing every year.\n",
    "- There is a periodic pattern that the usage increase during summer and decrease during winter period.\n",
    "- There is a drastic decrease in usage in the 2020.  Most probably caused by the global pandemic."
   ]
  },
  {
   "cell_type": "markdown",
   "metadata": {},
   "source": [
    "Now lets see how the number of listings have changed.  "
   ]
  },
  {
   "cell_type": "code",
   "execution_count": 131,
   "metadata": {
    "scrolled": true
   },
   "outputs": [
    {
     "data": {
      "text/html": [
       "<div>\n",
       "<style scoped>\n",
       "    .dataframe tbody tr th:only-of-type {\n",
       "        vertical-align: middle;\n",
       "    }\n",
       "\n",
       "    .dataframe tbody tr th {\n",
       "        vertical-align: top;\n",
       "    }\n",
       "\n",
       "    .dataframe thead th {\n",
       "        text-align: right;\n",
       "    }\n",
       "</style>\n",
       "<table border=\"1\" class=\"dataframe\">\n",
       "  <thead>\n",
       "    <tr style=\"text-align: right;\">\n",
       "      <th></th>\n",
       "      <th>date</th>\n",
       "      <th>listing_id</th>\n",
       "      <th>3month_RA</th>\n",
       "    </tr>\n",
       "  </thead>\n",
       "  <tbody>\n",
       "    <tr>\n",
       "      <th>0</th>\n",
       "      <td>2009-06</td>\n",
       "      <td>1</td>\n",
       "      <td>NaN</td>\n",
       "    </tr>\n",
       "    <tr>\n",
       "      <th>1</th>\n",
       "      <td>2009-08</td>\n",
       "      <td>1</td>\n",
       "      <td>NaN</td>\n",
       "    </tr>\n",
       "    <tr>\n",
       "      <th>2</th>\n",
       "      <td>2009-11</td>\n",
       "      <td>1</td>\n",
       "      <td>1.000000</td>\n",
       "    </tr>\n",
       "    <tr>\n",
       "      <th>3</th>\n",
       "      <td>2010-02</td>\n",
       "      <td>1</td>\n",
       "      <td>1.000000</td>\n",
       "    </tr>\n",
       "    <tr>\n",
       "      <th>4</th>\n",
       "      <td>2010-04</td>\n",
       "      <td>1</td>\n",
       "      <td>1.000000</td>\n",
       "    </tr>\n",
       "    <tr>\n",
       "      <th>...</th>\n",
       "      <td>...</td>\n",
       "      <td>...</td>\n",
       "      <td>...</td>\n",
       "    </tr>\n",
       "    <tr>\n",
       "      <th>121</th>\n",
       "      <td>2020-01</td>\n",
       "      <td>5643</td>\n",
       "      <td>5266.333333</td>\n",
       "    </tr>\n",
       "    <tr>\n",
       "      <th>122</th>\n",
       "      <td>2020-02</td>\n",
       "      <td>5226</td>\n",
       "      <td>5304.333333</td>\n",
       "    </tr>\n",
       "    <tr>\n",
       "      <th>123</th>\n",
       "      <td>2020-03</td>\n",
       "      <td>4572</td>\n",
       "      <td>5147.000000</td>\n",
       "    </tr>\n",
       "    <tr>\n",
       "      <th>124</th>\n",
       "      <td>2020-04</td>\n",
       "      <td>645</td>\n",
       "      <td>3481.000000</td>\n",
       "    </tr>\n",
       "    <tr>\n",
       "      <th>125</th>\n",
       "      <td>2020-05</td>\n",
       "      <td>280</td>\n",
       "      <td>1832.333333</td>\n",
       "    </tr>\n",
       "  </tbody>\n",
       "</table>\n",
       "<p>126 rows × 3 columns</p>\n",
       "</div>"
      ],
      "text/plain": [
       "        date  listing_id    3month_RA\n",
       "0    2009-06           1          NaN\n",
       "1    2009-08           1          NaN\n",
       "2    2009-11           1     1.000000\n",
       "3    2010-02           1     1.000000\n",
       "4    2010-04           1     1.000000\n",
       "..       ...         ...          ...\n",
       "121  2020-01        5643  5266.333333\n",
       "122  2020-02        5226  5304.333333\n",
       "123  2020-03        4572  5147.000000\n",
       "124  2020-04         645  3481.000000\n",
       "125  2020-05         280  1832.333333\n",
       "\n",
       "[126 rows x 3 columns]"
      ]
     },
     "execution_count": 131,
     "metadata": {},
     "output_type": "execute_result"
    }
   ],
   "source": [
    "df_grouped=df_reviews.groupby([df_reviews['date'].dt.to_period('M')])['listing_id'].nunique()\n",
    "df_grouped=pd.DataFrame(df_grouped).reset_index()\n",
    "df_grouped['3month_RA']=df_grouped.rolling(3).mean()\n",
    "df_grouped"
   ]
  },
  {
   "cell_type": "code",
   "execution_count": 133,
   "metadata": {},
   "outputs": [
    {
     "data": {
      "image/png": "[encoded data removed]",
      "text/plain": [
       "<Figure size 432x288 with 1 Axes>"
      ]
     },
     "metadata": {
      "needs_background": "light"
     },
     "output_type": "display_data"
    }
   ],
   "source": [
    "ax=df_grouped.plot(x='date', y='3month_RA', kind='line')\n",
    "ax.set_xlabel('Year')\n",
    "ax.set_ylabel('Number of Listings')\n",
    "plt.show()"
   ]
  },
  {
   "cell_type": "markdown",
   "metadata": {},
   "source": [
    "## Data Cleaning"
   ]
  },
  {
   "cell_type": "markdown",
   "metadata": {},
   "source": [
    "## Data analysis"
   ]
  },
  {
   "cell_type": "markdown",
   "metadata": {},
   "source": [
    "## Data Modeling"
   ]
  },
  {
   "cell_type": "markdown",
   "metadata": {},
   "source": [
    "## Data Visualisation"
   ]
  },
  {
   "cell_type": "code",
   "execution_count": null,
   "metadata": {},
   "outputs": [],
   "source": []
  }
 ],
 "metadata": {
  "kernelspec": {
   "display_name": "Python 3",
   "language": "python",
   "name": "python3"
  },
  "language_info": {
   "codemirror_mode": {
    "name": "ipython",
    "version": 3
   },
   "file_extension": ".py",
   "mimetype": "text/x-python",
   "name": "python",
   "nbconvert_exporter": "python",
   "pygments_lexer": "ipython3",
   "version": "3.7.7"
  }
 },
 "nbformat": 4,
 "nbformat_minor": 4
}
