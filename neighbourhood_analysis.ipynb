{
 "cells": [
  {
   "cell_type": "markdown",
   "metadata": {},
   "source": [
    "# Airbnb project\n",
    "## neighbourhood analysis\n",
    "How does neighbourhood affect the price and ratings?"
   ]
  },
  {
   "cell_type": "markdown",
   "metadata": {},
   "source": [
    "## Import relevant pacakges"
   ]
  },
  {
   "cell_type": "code",
   "execution_count": 1,
   "metadata": {},
   "outputs": [],
   "source": [
    "import numpy as np\n",
    "import pandas as pd\n",
    "import matplotlib.pyplot as plt\n",
    "import seaborn as sns\n",
    "sns.set()\n",
    "\n",
    "%matplotlib inline"
   ]
  },
  {
   "cell_type": "markdown",
   "metadata": {},
   "source": [
    "## Data gathering"
   ]
  },
  {
   "cell_type": "code",
   "execution_count": 15,
   "metadata": {},
   "outputs": [
    {
     "name": "stderr",
     "output_type": "stream",
     "text": [
      "C:\\Users\\yu298\\anaconda3\\lib\\site-packages\\IPython\\core\\interactiveshell.py:3063: DtypeWarning: Columns (43,61,62) have mixed types.Specify dtype option on import or set low_memory=False.\n",
      "  interactivity=interactivity, compiler=compiler, result=result)\n"
     ]
    }
   ],
   "source": [
    "df_listings = pd.read_csv('data/listings.csv.gz')"
   ]
  },
  {
   "cell_type": "markdown",
   "metadata": {},
   "source": [
    "## Data assessing"
   ]
  },
  {
   "cell_type": "code",
   "execution_count": 16,
   "metadata": {},
   "outputs": [
    {
     "name": "stdout",
     "output_type": "stream",
     "text": [
      "<class 'pandas.core.frame.DataFrame'>\n",
      "RangeIndex: 24678 entries, 0 to 24677\n",
      "Data columns (total 106 columns):\n",
      " #   Column                                        Non-Null Count  Dtype  \n",
      "---  ------                                        --------------  -----  \n",
      " 0   id                                            24678 non-null  int64  \n",
      " 1   listing_url                                   24678 non-null  object \n",
      " 2   scrape_id                                     24678 non-null  int64  \n",
      " 3   last_scraped                                  24678 non-null  object \n",
      " 4   name                                          24628 non-null  object \n",
      " 5   summary                                       23447 non-null  object \n",
      " 6   space                                         15953 non-null  object \n",
      " 7   description                                   24160 non-null  object \n",
      " 8   experiences_offered                           24678 non-null  object \n",
      " 9   neighborhood_overview                         13851 non-null  object \n",
      " 10  notes                                         7720 non-null   object \n",
      " 11  transit                                       15071 non-null  object \n",
      " 12  access                                        10852 non-null  object \n",
      " 13  interaction                                   12246 non-null  object \n",
      " 14  house_rules                                   12200 non-null  object \n",
      " 15  thumbnail_url                                 0 non-null      float64\n",
      " 16  medium_url                                    0 non-null      float64\n",
      " 17  picture_url                                   24678 non-null  object \n",
      " 18  xl_picture_url                                0 non-null      float64\n",
      " 19  host_id                                       24678 non-null  int64  \n",
      " 20  host_url                                      24678 non-null  object \n",
      " 21  host_name                                     24657 non-null  object \n",
      " 22  host_since                                    24657 non-null  object \n",
      " 23  host_location                                 24582 non-null  object \n",
      " 24  host_about                                    12232 non-null  object \n",
      " 25  host_response_time                            10737 non-null  object \n",
      " 26  host_response_rate                            10737 non-null  object \n",
      " 27  host_acceptance_rate                          15815 non-null  object \n",
      " 28  host_is_superhost                             24657 non-null  object \n",
      " 29  host_thumbnail_url                            24657 non-null  object \n",
      " 30  host_picture_url                              24657 non-null  object \n",
      " 31  host_neighbourhood                            18758 non-null  object \n",
      " 32  host_listings_count                           24657 non-null  float64\n",
      " 33  host_total_listings_count                     24657 non-null  float64\n",
      " 34  host_verifications                            24678 non-null  object \n",
      " 35  host_has_profile_pic                          24657 non-null  object \n",
      " 36  host_identity_verified                        24657 non-null  object \n",
      " 37  street                                        24678 non-null  object \n",
      " 38  neighbourhood                                 24678 non-null  object \n",
      " 39  neighbourhood_cleansed                        24678 non-null  object \n",
      " 40  neighbourhood_group_cleansed                  24678 non-null  object \n",
      " 41  city                                          24670 non-null  object \n",
      " 42  state                                         24536 non-null  object \n",
      " 43  zipcode                                       24178 non-null  object \n",
      " 44  market                                        24622 non-null  object \n",
      " 45  smart_location                                24678 non-null  object \n",
      " 46  country_code                                  24678 non-null  object \n",
      " 47  country                                       24678 non-null  object \n",
      " 48  latitude                                      24678 non-null  float64\n",
      " 49  longitude                                     24678 non-null  float64\n",
      " 50  is_location_exact                             24678 non-null  object \n",
      " 51  property_type                                 24678 non-null  object \n",
      " 52  room_type                                     24678 non-null  object \n",
      " 53  accommodates                                  24678 non-null  int64  \n",
      " 54  bathrooms                                     24657 non-null  float64\n",
      " 55  bedrooms                                      24632 non-null  float64\n",
      " 56  beds                                          24466 non-null  float64\n",
      " 57  bed_type                                      24676 non-null  object \n",
      " 58  amenities                                     24678 non-null  object \n",
      " 59  square_feet                                   391 non-null    float64\n",
      " 60  price                                         24678 non-null  object \n",
      " 61  weekly_price                                  2950 non-null   object \n",
      " 62  monthly_price                                 2106 non-null   object \n",
      " 63  security_deposit                              15070 non-null  object \n",
      " 64  cleaning_fee                                  17264 non-null  object \n",
      " 65  guests_included                               24678 non-null  int64  \n",
      " 66  extra_people                                  24678 non-null  object \n",
      " 67  minimum_nights                                24678 non-null  int64  \n",
      " 68  maximum_nights                                24678 non-null  int64  \n",
      " 69  minimum_minimum_nights                        24678 non-null  int64  \n",
      " 70  maximum_minimum_nights                        24678 non-null  int64  \n",
      " 71  minimum_maximum_nights                        24678 non-null  int64  \n",
      " 72  maximum_maximum_nights                        24678 non-null  int64  \n",
      " 73  minimum_nights_avg_ntm                        24678 non-null  float64\n",
      " 74  maximum_nights_avg_ntm                        24678 non-null  float64\n",
      " 75  calendar_updated                              24678 non-null  object \n",
      " 76  has_availability                              24678 non-null  object \n",
      " 77  availability_30                               24678 non-null  int64  \n",
      " 78  availability_60                               24678 non-null  int64  \n",
      " 79  availability_90                               24678 non-null  int64  \n",
      " 80  availability_365                              24678 non-null  int64  \n",
      " 81  calendar_last_scraped                         24678 non-null  object \n",
      " 82  number_of_reviews                             24678 non-null  int64  \n",
      " 83  number_of_reviews_ltm                         24678 non-null  int64  \n",
      " 84  first_review                                  20142 non-null  object \n",
      " 85  last_review                                   20142 non-null  object \n",
      " 86  review_scores_rating                          19645 non-null  float64\n",
      " 87  review_scores_accuracy                        19618 non-null  float64\n",
      " 88  review_scores_cleanliness                     19621 non-null  float64\n",
      " 89  review_scores_checkin                         19597 non-null  float64\n",
      " 90  review_scores_communication                   19616 non-null  float64\n",
      " 91  review_scores_location                        19598 non-null  float64\n",
      " 92  review_scores_value                           19595 non-null  float64\n",
      " 93  requires_license                              24678 non-null  object \n",
      " 94  license                                       2627 non-null   object \n",
      " 95  jurisdiction_names                            0 non-null      float64\n",
      " 96  instant_bookable                              24678 non-null  object \n",
      " 97  is_business_travel_ready                      24678 non-null  object \n",
      " 98  cancellation_policy                           24678 non-null  object \n",
      " 99  require_guest_profile_picture                 24678 non-null  object \n",
      " 100 require_guest_phone_verification              24678 non-null  object \n",
      " 101 calculated_host_listings_count                24678 non-null  int64  \n",
      " 102 calculated_host_listings_count_entire_homes   24678 non-null  int64  \n",
      " 103 calculated_host_listings_count_private_rooms  24678 non-null  int64  \n",
      " 104 calculated_host_listings_count_shared_rooms   24678 non-null  int64  \n",
      " 105 reviews_per_month                             20142 non-null  float64\n",
      "dtypes: float64(22), int64(21), object(63)\n",
      "memory usage: 20.0+ MB\n"
     ]
    }
   ],
   "source": [
    "df_listings.info(verbose=True, null_counts=True)"
   ]
  },
  {
   "cell_type": "markdown",
   "metadata": {},
   "source": [
    "Extract columns of interest, namely\n",
    "- id\n",
    "- neighbourhood_group_cleansed\n",
    "- price\n",
    "- review_scores_rating"
   ]
  },
  {
   "cell_type": "code",
   "execution_count": 17,
   "metadata": {},
   "outputs": [
    {
     "data": {
      "text/html": [
       "<div>\n",
       "<style scoped>\n",
       "    .dataframe tbody tr th:only-of-type {\n",
       "        vertical-align: middle;\n",
       "    }\n",
       "\n",
       "    .dataframe tbody tr th {\n",
       "        vertical-align: top;\n",
       "    }\n",
       "\n",
       "    .dataframe thead th {\n",
       "        text-align: right;\n",
       "    }\n",
       "</style>\n",
       "<table border=\"1\" class=\"dataframe\">\n",
       "  <thead>\n",
       "    <tr style=\"text-align: right;\">\n",
       "      <th></th>\n",
       "      <th>id</th>\n",
       "      <th>neighbourhood_group_cleansed</th>\n",
       "      <th>price</th>\n",
       "      <th>review_scores_rating</th>\n",
       "    </tr>\n",
       "  </thead>\n",
       "  <tbody>\n",
       "    <tr>\n",
       "      <th>0</th>\n",
       "      <td>2015</td>\n",
       "      <td>Mitte</td>\n",
       "      <td>$60.00</td>\n",
       "      <td>93.0</td>\n",
       "    </tr>\n",
       "    <tr>\n",
       "      <th>1</th>\n",
       "      <td>3176</td>\n",
       "      <td>Pankow</td>\n",
       "      <td>$90.00</td>\n",
       "      <td>93.0</td>\n",
       "    </tr>\n",
       "    <tr>\n",
       "      <th>2</th>\n",
       "      <td>3309</td>\n",
       "      <td>Tempelhof - Schöneberg</td>\n",
       "      <td>$28.00</td>\n",
       "      <td>89.0</td>\n",
       "    </tr>\n",
       "    <tr>\n",
       "      <th>3</th>\n",
       "      <td>7071</td>\n",
       "      <td>Pankow</td>\n",
       "      <td>$33.00</td>\n",
       "      <td>97.0</td>\n",
       "    </tr>\n",
       "    <tr>\n",
       "      <th>4</th>\n",
       "      <td>9991</td>\n",
       "      <td>Pankow</td>\n",
       "      <td>$180.00</td>\n",
       "      <td>100.0</td>\n",
       "    </tr>\n",
       "    <tr>\n",
       "      <th>...</th>\n",
       "      <td>...</td>\n",
       "      <td>...</td>\n",
       "      <td>...</td>\n",
       "      <td>...</td>\n",
       "    </tr>\n",
       "    <tr>\n",
       "      <th>24673</th>\n",
       "      <td>43422635</td>\n",
       "      <td>Friedrichshain-Kreuzberg</td>\n",
       "      <td>$65.00</td>\n",
       "      <td>NaN</td>\n",
       "    </tr>\n",
       "    <tr>\n",
       "      <th>24674</th>\n",
       "      <td>43430815</td>\n",
       "      <td>Spandau</td>\n",
       "      <td>$35.00</td>\n",
       "      <td>NaN</td>\n",
       "    </tr>\n",
       "    <tr>\n",
       "      <th>24675</th>\n",
       "      <td>43432267</td>\n",
       "      <td>Treptow - Köpenick</td>\n",
       "      <td>$40.00</td>\n",
       "      <td>NaN</td>\n",
       "    </tr>\n",
       "    <tr>\n",
       "      <th>24676</th>\n",
       "      <td>43436282</td>\n",
       "      <td>Treptow - Köpenick</td>\n",
       "      <td>$46.00</td>\n",
       "      <td>NaN</td>\n",
       "    </tr>\n",
       "    <tr>\n",
       "      <th>24677</th>\n",
       "      <td>43438755</td>\n",
       "      <td>Mitte</td>\n",
       "      <td>$76.00</td>\n",
       "      <td>NaN</td>\n",
       "    </tr>\n",
       "  </tbody>\n",
       "</table>\n",
       "<p>24678 rows × 4 columns</p>\n",
       "</div>"
      ],
      "text/plain": [
       "             id neighbourhood_group_cleansed    price  review_scores_rating\n",
       "0          2015                        Mitte   $60.00                  93.0\n",
       "1          3176                       Pankow   $90.00                  93.0\n",
       "2          3309       Tempelhof - Schöneberg   $28.00                  89.0\n",
       "3          7071                       Pankow   $33.00                  97.0\n",
       "4          9991                       Pankow  $180.00                 100.0\n",
       "...         ...                          ...      ...                   ...\n",
       "24673  43422635     Friedrichshain-Kreuzberg   $65.00                   NaN\n",
       "24674  43430815                      Spandau   $35.00                   NaN\n",
       "24675  43432267           Treptow - Köpenick   $40.00                   NaN\n",
       "24676  43436282           Treptow - Köpenick   $46.00                   NaN\n",
       "24677  43438755                        Mitte   $76.00                   NaN\n",
       "\n",
       "[24678 rows x 4 columns]"
      ]
     },
     "execution_count": 17,
     "metadata": {},
     "output_type": "execute_result"
    }
   ],
   "source": [
    "df_neibourhood = df_listings[['id', 'neighbourhood_group_cleansed', 'price', 'review_scores_rating']]\n",
    "df_neibourhood"
   ]
  },
  {
   "cell_type": "code",
   "execution_count": 18,
   "metadata": {
    "scrolled": true
   },
   "outputs": [
    {
     "name": "stdout",
     "output_type": "stream",
     "text": [
      "<class 'pandas.core.frame.DataFrame'>\n",
      "RangeIndex: 24678 entries, 0 to 24677\n",
      "Data columns (total 4 columns):\n",
      " #   Column                        Non-Null Count  Dtype  \n",
      "---  ------                        --------------  -----  \n",
      " 0   id                            24678 non-null  int64  \n",
      " 1   neighbourhood_group_cleansed  24678 non-null  object \n",
      " 2   price                         24678 non-null  object \n",
      " 3   review_scores_rating          19645 non-null  float64\n",
      "dtypes: float64(1), int64(1), object(2)\n",
      "memory usage: 771.3+ KB\n"
     ]
    }
   ],
   "source": [
    "df_neibourhood.info()"
   ]
  },
  {
   "cell_type": "markdown",
   "metadata": {},
   "source": [
    "Few quality issues with data\n",
    "- price has non-numeric data type\n",
    "- about 5000 data missing from review scores"
   ]
  },
  {
   "cell_type": "code",
   "execution_count": 19,
   "metadata": {},
   "outputs": [],
   "source": [
    "# convert price column.  Remove ',' and '$' sign, then change datatype.\n",
    "def price_conversion(df,col):\n",
    "    df.loc[:,col] = df.loc[:,col].str.replace(',','')\n",
    "    df.loc[:,col] = pd.to_numeric(df.loc[:,col].str.replace('$', ''))"
   ]
  },
  {
   "cell_type": "code",
   "execution_count": 20,
   "metadata": {},
   "outputs": [
    {
     "name": "stderr",
     "output_type": "stream",
     "text": [
      "C:\\Users\\yu298\\anaconda3\\lib\\site-packages\\pandas\\core\\indexing.py:966: SettingWithCopyWarning: \n",
      "A value is trying to be set on a copy of a slice from a DataFrame.\n",
      "Try using .loc[row_indexer,col_indexer] = value instead\n",
      "\n",
      "See the caveats in the documentation: https://pandas.pydata.org/pandas-docs/stable/user_guide/indexing.html#returning-a-view-versus-a-copy\n",
      "  self.obj[item] = s\n"
     ]
    }
   ],
   "source": [
    "price_conversion(df_neibourhood, 'price')"
   ]
  },
  {
   "cell_type": "code",
   "execution_count": 21,
   "metadata": {},
   "outputs": [
    {
     "data": {
      "text/html": [
       "<div>\n",
       "<style scoped>\n",
       "    .dataframe tbody tr th:only-of-type {\n",
       "        vertical-align: middle;\n",
       "    }\n",
       "\n",
       "    .dataframe tbody tr th {\n",
       "        vertical-align: top;\n",
       "    }\n",
       "\n",
       "    .dataframe thead th {\n",
       "        text-align: right;\n",
       "    }\n",
       "</style>\n",
       "<table border=\"1\" class=\"dataframe\">\n",
       "  <thead>\n",
       "    <tr style=\"text-align: right;\">\n",
       "      <th></th>\n",
       "      <th>id</th>\n",
       "      <th>price</th>\n",
       "      <th>review_scores_rating</th>\n",
       "    </tr>\n",
       "  </thead>\n",
       "  <tbody>\n",
       "    <tr>\n",
       "      <th>count</th>\n",
       "      <td>2.467800e+04</td>\n",
       "      <td>24678.000000</td>\n",
       "      <td>19645.000000</td>\n",
       "    </tr>\n",
       "    <tr>\n",
       "      <th>mean</th>\n",
       "      <td>2.199784e+07</td>\n",
       "      <td>75.109409</td>\n",
       "      <td>94.583049</td>\n",
       "    </tr>\n",
       "    <tr>\n",
       "      <th>std</th>\n",
       "      <td>1.262602e+07</td>\n",
       "      <td>239.989351</td>\n",
       "      <td>7.876218</td>\n",
       "    </tr>\n",
       "    <tr>\n",
       "      <th>min</th>\n",
       "      <td>2.015000e+03</td>\n",
       "      <td>0.000000</td>\n",
       "      <td>20.000000</td>\n",
       "    </tr>\n",
       "    <tr>\n",
       "      <th>25%</th>\n",
       "      <td>1.122274e+07</td>\n",
       "      <td>35.000000</td>\n",
       "      <td>92.000000</td>\n",
       "    </tr>\n",
       "    <tr>\n",
       "      <th>50%</th>\n",
       "      <td>2.144830e+07</td>\n",
       "      <td>50.000000</td>\n",
       "      <td>97.000000</td>\n",
       "    </tr>\n",
       "    <tr>\n",
       "      <th>75%</th>\n",
       "      <td>3.296801e+07</td>\n",
       "      <td>79.000000</td>\n",
       "      <td>100.000000</td>\n",
       "    </tr>\n",
       "    <tr>\n",
       "      <th>max</th>\n",
       "      <td>4.343876e+07</td>\n",
       "      <td>9000.000000</td>\n",
       "      <td>100.000000</td>\n",
       "    </tr>\n",
       "  </tbody>\n",
       "</table>\n",
       "</div>"
      ],
      "text/plain": [
       "                 id         price  review_scores_rating\n",
       "count  2.467800e+04  24678.000000          19645.000000\n",
       "mean   2.199784e+07     75.109409             94.583049\n",
       "std    1.262602e+07    239.989351              7.876218\n",
       "min    2.015000e+03      0.000000             20.000000\n",
       "25%    1.122274e+07     35.000000             92.000000\n",
       "50%    2.144830e+07     50.000000             97.000000\n",
       "75%    3.296801e+07     79.000000            100.000000\n",
       "max    4.343876e+07   9000.000000            100.000000"
      ]
     },
     "execution_count": 21,
     "metadata": {},
     "output_type": "execute_result"
    }
   ],
   "source": [
    "df_neibourhood.describe()"
   ]
  },
  {
   "cell_type": "markdown",
   "metadata": {},
   "source": [
    "In order to deal with the missing values, lets first see if any particular region has higher/lower percentage of missing review."
   ]
  }
 ],
 "metadata": {
  "kernelspec": {
   "display_name": "Python 3",
   "language": "python",
   "name": "python3"
  },
  "language_info": {
   "codemirror_mode": {
    "name": "ipython",
    "version": 3
   },
   "file_extension": ".py",
   "mimetype": "text/x-python",
   "name": "python",
   "nbconvert_exporter": "python",
   "pygments_lexer": "ipython3",
   "version": "3.7.7"
  }
 },
 "nbformat": 4,
 "nbformat_minor": 4
}
